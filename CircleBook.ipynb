{
 "cells": [
  {
   "cell_type": "markdown",
   "metadata": {},
   "source": [
    "# Stock Analysis Based on Earnings Report"
   ]
  },
  {
   "cell_type": "markdown",
   "metadata": {},
   "source": [
    "#### Importing Libraries"
   ]
  },
  {
   "cell_type": "code",
   "execution_count": 1,
   "metadata": {},
   "outputs": [],
   "source": [
    "from stock_analysis import Stock_Analysis"
   ]
  },
  {
   "cell_type": "code",
   "execution_count": 2,
   "metadata": {},
   "outputs": [],
   "source": [
    "sa = Stock_Analysis()"
   ]
  },
  {
   "cell_type": "code",
   "execution_count": 3,
   "metadata": {},
   "outputs": [
    {
     "ename": "TypeError",
     "evalue": "unsupported operand type(s) for -: 'str' and 'datetime.timedelta'",
     "output_type": "error",
     "traceback": [
      "\u001b[1;31m---------------------------------------------------------------------------\u001b[0m",
      "\u001b[1;31mTypeError\u001b[0m                                 Traceback (most recent call last)",
      "Cell \u001b[1;32mIn[3], line 8\u001b[0m\n\u001b[0;32m      5\u001b[0m end_date \u001b[38;5;241m=\u001b[39m \u001b[38;5;124m'\u001b[39m\u001b[38;5;124m2023-12-31\u001b[39m\u001b[38;5;124m'\u001b[39m\n\u001b[0;32m      6\u001b[0m df \u001b[38;5;241m=\u001b[39m sa\u001b[38;5;241m.\u001b[39mget_merged_data(ticker, start_date, end_date)\n\u001b[1;32m----> 8\u001b[0m analysis_results \u001b[38;5;241m=\u001b[39m \u001b[43msa\u001b[49m\u001b[38;5;241;43m.\u001b[39;49m\u001b[43manalyze_stock_performance\u001b[49m\u001b[43m(\u001b[49m\u001b[43mticker\u001b[49m\u001b[43m,\u001b[49m\u001b[43m \u001b[49m\u001b[43mstart_date\u001b[49m\u001b[43m,\u001b[49m\u001b[43m \u001b[49m\u001b[43mend_date\u001b[49m\u001b[43m)\u001b[49m\n\u001b[0;32m     10\u001b[0m sa\u001b[38;5;241m.\u001b[39mplot_stock(ticker, start_date, end_date, analysis_results)\n\u001b[0;32m     11\u001b[0m sa\u001b[38;5;241m.\u001b[39mplot_daily(ticker, start_date, end_date, analysis_results, \u001b[38;5;124m'\u001b[39m\u001b[38;5;124mdaily_range_perc\u001b[39m\u001b[38;5;124m'\u001b[39m)\n",
      "File \u001b[1;32mc:\\Users\\Houssam Abou El Huda\\Desktop\\FinanceProject\\stock_analysis.py:42\u001b[0m, in \u001b[0;36mStock_Analysis.analyze_stock_performance\u001b[1;34m(self, ticker, start_date, end_date, days_before, days_after)\u001b[0m\n\u001b[0;32m     39\u001b[0m results \u001b[38;5;241m=\u001b[39m []\n\u001b[0;32m     41\u001b[0m \u001b[38;5;28;01mfor\u001b[39;00m earnings_date \u001b[38;5;129;01min\u001b[39;00m merged_data\u001b[38;5;241m.\u001b[39mindex[merged_data[\u001b[38;5;124m'\u001b[39m\u001b[38;5;124mReported EPS\u001b[39m\u001b[38;5;124m'\u001b[39m]\u001b[38;5;241m.\u001b[39mnotna()]:\n\u001b[1;32m---> 42\u001b[0m     start \u001b[38;5;241m=\u001b[39m \u001b[43mearnings_date\u001b[49m\u001b[43m \u001b[49m\u001b[38;5;241;43m-\u001b[39;49m\u001b[43m \u001b[49m\u001b[43mtimedelta\u001b[49m\u001b[43m(\u001b[49m\u001b[43mdays\u001b[49m\u001b[38;5;241;43m=\u001b[39;49m\u001b[43mdays_before\u001b[49m\u001b[43m)\u001b[49m\n\u001b[0;32m     43\u001b[0m     end \u001b[38;5;241m=\u001b[39m earnings_date \u001b[38;5;241m+\u001b[39m timedelta(days\u001b[38;5;241m=\u001b[39mdays_after)\n\u001b[0;32m     45\u001b[0m     period_data \u001b[38;5;241m=\u001b[39m merged_data\u001b[38;5;241m.\u001b[39mloc[start:end]\n",
      "\u001b[1;31mTypeError\u001b[0m: unsupported operand type(s) for -: 'str' and 'datetime.timedelta'"
     ]
    }
   ],
   "source": [
    "# Usage example\n",
    "sa = Stock_Analysis()\n",
    "ticker = 'NVDA'\n",
    "start_date = '2020-01-01'\n",
    "end_date = '2023-12-31'\n",
    "df = sa.get_merged_data(ticker, start_date, end_date)\n",
    "\n",
    "analysis_results = sa.analyze_stock_performance(ticker, start_date, end_date)\n",
    "\n",
    "sa.plot_stock(ticker, start_date, end_date, analysis_results)\n",
    "sa.plot_daily(ticker, start_date, end_date, analysis_results, 'daily_range_perc')"
   ]
  }
 ],
 "metadata": {
  "kernelspec": {
   "display_name": "Python 3",
   "language": "python",
   "name": "python3"
  },
  "language_info": {
   "codemirror_mode": {
    "name": "ipython",
    "version": 3
   },
   "file_extension": ".py",
   "mimetype": "text/x-python",
   "name": "python",
   "nbconvert_exporter": "python",
   "pygments_lexer": "ipython3",
   "version": "3.10.11"
  }
 },
 "nbformat": 4,
 "nbformat_minor": 2
}
